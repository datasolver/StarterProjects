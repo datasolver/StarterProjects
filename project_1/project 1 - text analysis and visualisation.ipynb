{
 "cells": [
  {
   "attachments": {},
   "cell_type": "markdown",
   "metadata": {},
   "source": [
    "### Project 1: Text Analysis and Visualization \n",
    "\n",
    "The aim of this project is to test your understand of some of the basic concepts of python programming. You will be working with only texts in this project. \n",
    "\n",
    "**Task:**\n",
    "\n",
    "Follow the instructions in each code cell below"
   ]
  },
  {
   "cell_type": "code",
   "execution_count": null,
   "metadata": {},
   "outputs": [],
   "source": [
    "# import some python libraries\n",
    "import glob\n",
    "import string\n",
    "import matplotlib.pyplot as plt"
   ]
  },
  {
   "cell_type": "code",
   "execution_count": null,
   "metadata": {},
   "outputs": [],
   "source": [
    "# obtain all English language punctuations from the string library\n",
    "puncs_ = string.punctuation\n",
    "\n",
    "# change punc_ to a set object to ensure unique entries\n",
    "puncs_ = {puncs_[i] for i in range(len(puncs_))} \n",
    "\n",
    "# puncs_\n",
    "puncs_"
   ]
  },
  {
   "cell_type": "code",
   "execution_count": null,
   "metadata": {},
   "outputs": [],
   "source": [
    "# Defining a function to remove punctuations from a text file\n",
    "\n",
    "def remove_punctuations(filepath, items_to_remove = puncs_):\n",
    "    \"\"\"\n",
    "    A function to remove punctuations and newline character from a text file\n",
    "    \n",
    "    Args: \n",
    "        path_to_file = The full directory to the file if its not in the working directory\n",
    "        items_to_remove = A list of items (punctuation marks, new line character, etc.) to remove\n",
    "    Returns:\n",
    "        contents = The file contents as a string with the given items removed\n",
    "    \"\"\"\n",
    "    # Step 1: open the file and read its entire contents as a single string\n",
    "    file = open(filepath, mode = \"r\")\n",
    "    contents = file.read()\n",
    "\n",
    "    # Step 2: replace all punctuations\n",
    "    # put your code here\n",
    "\n",
    "    # Step 3: replace each newline character ('\\n') with a space ('\\s')\n",
    "    # put your code here\n",
    "\n",
    "    # step 3: \n",
    "    return contents"
   ]
  },
  {
   "cell_type": "code",
   "execution_count": null,
   "metadata": {},
   "outputs": [],
   "source": [
    "# Write a function to count the frequency of each unique word in a text file after removing the punctuations\n",
    "\n",
    "def word_counter(filepath, items_to_remove = puncs_):\n",
    "    \"\"\"A function to count the number of times each word occurs in a text. All punctuation marks are skipped.\n",
    "    The function returns a dictionary object whose keys are the unique words and values are the word counts\n",
    "    \"\"\"\n",
    "    contents = remove_punctuations(filepath, items_to_remove)\n",
    "    contents_list = contents.split(\" \")\n",
    "\n",
    "    # put your code here - (hint: use dictionary comprehension)\n",
    "    word_counts = {}\n",
    "    return(word_counts)"
   ]
  },
  {
   "cell_type": "code",
   "execution_count": null,
   "metadata": {},
   "outputs": [],
   "source": [
    "# let's have a function to counter the number of charaters in each word\n",
    "\n",
    "def character_counter(filepath, items_to_remove = puncs_):\n",
    "    \"\"\"\n",
    "    A function to calculate the number of occurrence of words containing a given number of letters\n",
    "    \n",
    "    Args: \n",
    "        filepath = The full directory to the file if its not in the working directory\n",
    "        items_to_remove = A list (an iterable) of items to remove (default = puncs_)\n",
    "        num_letters = desired number of letters\n",
    "         \n",
    "    Returns:\n",
    "        unique_num_letters = A list of the unique number of letters in each word\n",
    "        frequency = The number of words containing the given num_letters\n",
    "    \"\"\"\n",
    "    # step 1: use the word_counter function to generate the word_dict\n",
    "    # put your code here\n",
    "\n",
    "    # step 2: Extract the list of words in word_dict\n",
    "    # complete the code below\n",
    "    words = list()\n",
    "\n",
    "    # step 3: Assuming a word contains at least 2 letters, make a list of all possible number of letters in words\n",
    "    # complete the code below (hint: use list comprehension)\n",
    "    num_letters = []\n",
    "    unique_num_letters = set(num_letters)\n",
    "    \n",
    "    # step 4: Make a list of the frequency of words containing each unique number of letters obtained in step 3\n",
    "    # complete the code below\n",
    "    frequency =[]    \n",
    "    return list(unique_num_letters), frequency"
   ]
  },
  {
   "cell_type": "code",
   "execution_count": null,
   "metadata": {},
   "outputs": [],
   "source": [
    "# Define a function to calculate the normalized cumulative character frequencies\n",
    "\n",
    "def norm_cum_freq(frequency):\n",
    "    # put your code here\n",
    "    return "
   ]
  },
  {
   "cell_type": "code",
   "execution_count": null,
   "metadata": {},
   "outputs": [],
   "source": [
    "# let's define a function to visualize our text analysis\n",
    "\n",
    "def viz(unique_num_letters, frequency, norm_freq, title, figsize):\n",
    "    \"\"\" A function to visualize  the word counts\"\"\"           \n",
    "   \n",
    "    fig = plt.figure(figsize=figsize)\n",
    "    ax1 = fig.add_subplot(111)\n",
    "    ax1.bar(unique_num_letters, frequency, label = \"frequency\")\n",
    "    ax1.set_xlabel('Number of Letters', fontsize=14)\n",
    "    ax1.set_ylabel('Number of Words', fontsize=14)\n",
    "    ax1.set_title(title, fontsize=15)\n",
    "    ax1.legend(loc = 'center left', fontsize=14)\n",
    "    ax1.tick_params(axis='both', which='major', labelsize=13)\n",
    "    ax2 = ax1.twinx()\n",
    "    \n",
    "    ax2.plot(unique_num_letters, norm_freq, 'r-', lw = 2, label = \"norm_cum_freq\")\n",
    "    ax2.set_ylabel('Normalized cumulative frequency', fontsize=14)\n",
    "    ax2.tick_params(axis='both', which='major', labelsize=13)\n",
    "    ax2.legend(loc = 'center right', fontsize=14)\n",
    "    plt.show()"
   ]
  },
  {
   "cell_type": "code",
   "execution_count": null,
   "metadata": {},
   "outputs": [],
   "source": [
    "# Using FOR LOOP, apply the viz() function to each text file in the data folder\n",
    "# Step 1: get all the text files as a list named files\n",
    "files = glob.glob(\"./data/*.txt\")\n",
    "# Put your code below this line"
   ]
  },
  {
   "cell_type": "code",
   "execution_count": null,
   "metadata": {},
   "outputs": [],
   "source": []
  }
 ],
 "metadata": {
  "kernelspec": {
   "display_name": "exptenv",
   "language": "python",
   "name": "python3"
  },
  "language_info": {
   "codemirror_mode": {
    "name": "ipython",
    "version": 3
   },
   "file_extension": ".py",
   "mimetype": "text/x-python",
   "name": "python",
   "nbconvert_exporter": "python",
   "pygments_lexer": "ipython3",
   "version": "3.9.7"
  },
  "vscode": {
   "interpreter": {
    "hash": "09c0d9eccb3ce2eccda7f3323cfba4030d21ccaca51339795d25f25e5f34da0b"
   }
  }
 },
 "nbformat": 4,
 "nbformat_minor": 2
}
